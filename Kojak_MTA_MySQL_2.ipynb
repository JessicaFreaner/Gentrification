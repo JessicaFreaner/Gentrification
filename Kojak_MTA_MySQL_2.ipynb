{
 "metadata": {
  "name": "",
  "signature": "sha256:88f1eb980e27c54e260cb7f62ae9b21c82f294e83b7c07af8ba3e5bb4f79ae42"
 },
 "nbformat": 3,
 "nbformat_minor": 0,
 "worksheets": [
  {
   "cells": [
    {
     "cell_type": "markdown",
     "metadata": {},
     "source": [
      "# Scrape URLS to MTA Data"
     ]
    },
    {
     "cell_type": "code",
     "collapsed": false,
     "input": [
      "from pprint import pprint\n",
      "import urllib2\n",
      "from bs4 import BeautifulSoup\n",
      "import re\n",
      "import os\n",
      "\n",
      "\n",
      "# extract soup for urlname\n",
      "def url_to_soup(urlname):\n",
      "    try:\n",
      "        page = urllib2.urlopen(urlname)\n",
      "        soup = BeautifulSoup(page)\n",
      "    except:\n",
      "        print urlname\n",
      "        soup = 'N/A'\n",
      "        print 'soup', soup\n",
      "    return soup\n",
      "\n",
      "\n",
      "def find_urls(soup, identifier):\n",
      "    try:\n",
      "        return soup.find_all('a', href=re.compile(identifier))\n",
      "    except:\n",
      "        print 'failed soup', soup\n",
      "\n",
      "        \n",
      "def extract_data_urls(urlname):\n",
      "    soup = url_to_soup(urlname)\n",
      "    data_urls = []\n",
      "    \n",
      "    # identify url for weekly data\n",
      "    link_list = find_urls(soup, 'data/nyct/turnstile/')\n",
      "    for link in link_list:\n",
      "        one_link = \"http://web.mta.info/developers/\" + link.get('href')\n",
      "        data_urls.append(str(one_link))\n",
      "\n",
      "    return data_urls\n",
      "\n",
      "\n",
      "def wget_urls(url_list):\n",
      "    for url in url_list:\n",
      "        os.system('wget %s' %url)\n",
      "        \n",
      "        \n",
      "def mta_turnstile_data_extraction():\n",
      "    start_url = \"http://web.mta.info/developers/turnstile.html\"\n",
      "    \n",
      "    # main page urls\n",
      "    weekly_data_urls = extract_data_urls(start_url)\n",
      "    print '%i URLS extracted' % len(weekly_data_urls)\n",
      "    \n",
      "    # wget to retrieve data from url to local file\n",
      "#     wget_urls(weekly_data_urls)\n",
      "    return weekly_data_urls\n"
     ],
     "language": "python",
     "metadata": {},
     "outputs": []
    },
    {
     "cell_type": "code",
     "collapsed": false,
     "input": [
      "turnstile_urls = mta_turnstile_data_extraction()\n",
      "\n",
      "turnstile_urls[0]\n",
      "turnstile_urls[0][-20:]\n",
      "print turnstile_urls[21][-20:] # first file with new format\n",
      "turnstile_urls[:22] # files with new format"
     ],
     "language": "python",
     "metadata": {},
     "outputs": []
    },
    {
     "cell_type": "markdown",
     "metadata": {},
     "source": [
      "# Load Data into MySQL"
     ]
    },
    {
     "cell_type": "markdown",
     "metadata": {},
     "source": [
      "### ZIP file / UPLOAD to remote server"
     ]
    },
    {
     "cell_type": "code",
     "collapsed": false,
     "input": [
      "zip -r zipped_mta.zip *txt"
     ],
     "language": "python",
     "metadata": {},
     "outputs": []
    },
    {
     "cell_type": "code",
     "collapsed": false,
     "input": [
      "import credentials"
     ],
     "language": "python",
     "metadata": {},
     "outputs": [],
     "prompt_number": 394
    },
    {
     "cell_type": "code",
     "collapsed": false,
     "input": [
      "def upload_files_to_remote_server(filename):\n",
      "    os.system('scp %s %s@%s' % filename, credentials.user, credentials.host)"
     ],
     "language": "python",
     "metadata": {},
     "outputs": [],
     "prompt_number": 398
    },
    {
     "cell_type": "code",
     "collapsed": false,
     "input": [
      "upload_files_to_remote_server('zipped_mta.zip')"
     ],
     "language": "python",
     "metadata": {},
     "outputs": []
    },
    {
     "cell_type": "markdown",
     "metadata": {},
     "source": [
      "###New Format files\n",
      "Below commands performed on remote server"
     ]
    },
    {
     "cell_type": "code",
     "collapsed": false,
     "input": [
      "!ls  *_15*txt  *_1412*txt *_1411*txt *_14102*txt *_141018.txt > new_format_list.txt\n",
      "!cat new_format_list.txt | xargs tail -n+2 > ALLNEW.txt"
     ],
     "language": "python",
     "metadata": {},
     "outputs": []
    },
    {
     "cell_type": "code",
     "collapsed": false,
     "input": [
      "!head  ALLNEW.txt"
     ],
     "language": "python",
     "metadata": {},
     "outputs": []
    },
    {
     "cell_type": "markdown",
     "metadata": {},
     "source": [
      "#Access MySQL Server"
     ]
    },
    {
     "cell_type": "code",
     "collapsed": false,
     "input": [
      "import pymysql\n",
      "import pandas as pd\n",
      "from pandas.io.sql import read_sql\n",
      "import pickle"
     ],
     "language": "python",
     "metadata": {},
     "outputs": []
    },
    {
     "cell_type": "code",
     "collapsed": false,
     "input": [
      "db = pymysql.connect(host=credentials.host,\n",
      "                     user=credentials.user,\n",
      "                     passwd=credentials.password,\n",
      "                     db='mta')"
     ],
     "language": "python",
     "metadata": {},
     "outputs": [],
     "prompt_number": 399
    },
    {
     "cell_type": "code",
     "collapsed": false,
     "input": [
      "cursor = db.cursor()"
     ],
     "language": "python",
     "metadata": {},
     "outputs": [],
     "prompt_number": 400
    },
    {
     "cell_type": "code",
     "collapsed": false,
     "input": [
      "test = read_sql(\"SELECT * FROM mta_new LIMIT 10\", db)"
     ],
     "language": "python",
     "metadata": {},
     "outputs": [],
     "prompt_number": 401
    },
    {
     "cell_type": "code",
     "collapsed": false,
     "input": [
      "test"
     ],
     "language": "python",
     "metadata": {},
     "outputs": [
      {
       "html": [
        "<div style=\"max-height:1000px;max-width:1500px;overflow:auto;\">\n",
        "<table border=\"1\" class=\"dataframe\">\n",
        "  <thead>\n",
        "    <tr style=\"text-align: right;\">\n",
        "      <th></th>\n",
        "      <th>ca</th>\n",
        "      <th>unit</th>\n",
        "      <th>scp</th>\n",
        "      <th>station</th>\n",
        "      <th>linename</th>\n",
        "      <th>division</th>\n",
        "      <th>audit_date</th>\n",
        "      <th>audit_time</th>\n",
        "      <th>audit_day</th>\n",
        "      <th>description</th>\n",
        "      <th>entries</th>\n",
        "      <th>exits</th>\n",
        "    </tr>\n",
        "  </thead>\n",
        "  <tbody>\n",
        "    <tr>\n",
        "      <th>0</th>\n",
        "      <td> A060</td>\n",
        "      <td> R001</td>\n",
        "      <td> 00-00-00</td>\n",
        "      <td> WHITEHALL ST</td>\n",
        "      <td> R1</td>\n",
        "      <td> BMT</td>\n",
        "      <td> 2014-10-11</td>\n",
        "      <td>01:00:00</td>\n",
        "      <td> 7</td>\n",
        "      <td> REGULAR</td>\n",
        "      <td> 805439</td>\n",
        "      <td> 1141080</td>\n",
        "    </tr>\n",
        "    <tr>\n",
        "      <th>1</th>\n",
        "      <td> A060</td>\n",
        "      <td> R001</td>\n",
        "      <td> 00-00-00</td>\n",
        "      <td> WHITEHALL ST</td>\n",
        "      <td> R1</td>\n",
        "      <td> BMT</td>\n",
        "      <td> 2014-10-11</td>\n",
        "      <td>05:00:00</td>\n",
        "      <td> 7</td>\n",
        "      <td> REGULAR</td>\n",
        "      <td> 805459</td>\n",
        "      <td> 1141141</td>\n",
        "    </tr>\n",
        "    <tr>\n",
        "      <th>2</th>\n",
        "      <td> A060</td>\n",
        "      <td> R001</td>\n",
        "      <td> 00-00-00</td>\n",
        "      <td> WHITEHALL ST</td>\n",
        "      <td> R1</td>\n",
        "      <td> BMT</td>\n",
        "      <td> 2014-10-11</td>\n",
        "      <td>09:00:00</td>\n",
        "      <td> 7</td>\n",
        "      <td> REGULAR</td>\n",
        "      <td> 805589</td>\n",
        "      <td> 1141257</td>\n",
        "    </tr>\n",
        "    <tr>\n",
        "      <th>3</th>\n",
        "      <td> A060</td>\n",
        "      <td> R001</td>\n",
        "      <td> 00-00-00</td>\n",
        "      <td> WHITEHALL ST</td>\n",
        "      <td> R1</td>\n",
        "      <td> BMT</td>\n",
        "      <td> 2014-10-11</td>\n",
        "      <td>13:00:00</td>\n",
        "      <td> 7</td>\n",
        "      <td> REGULAR</td>\n",
        "      <td> 805834</td>\n",
        "      <td> 1141512</td>\n",
        "    </tr>\n",
        "    <tr>\n",
        "      <th>4</th>\n",
        "      <td> A060</td>\n",
        "      <td> R001</td>\n",
        "      <td> 00-00-00</td>\n",
        "      <td> WHITEHALL ST</td>\n",
        "      <td> R1</td>\n",
        "      <td> BMT</td>\n",
        "      <td> 2014-10-11</td>\n",
        "      <td>17:00:00</td>\n",
        "      <td> 7</td>\n",
        "      <td> REGULAR</td>\n",
        "      <td> 806150</td>\n",
        "      <td> 1141903</td>\n",
        "    </tr>\n",
        "    <tr>\n",
        "      <th>5</th>\n",
        "      <td> A060</td>\n",
        "      <td> R001</td>\n",
        "      <td> 00-00-00</td>\n",
        "      <td> WHITEHALL ST</td>\n",
        "      <td> R1</td>\n",
        "      <td> BMT</td>\n",
        "      <td> 2014-10-11</td>\n",
        "      <td>21:00:00</td>\n",
        "      <td> 7</td>\n",
        "      <td> REGULAR</td>\n",
        "      <td> 806431</td>\n",
        "      <td> 1142305</td>\n",
        "    </tr>\n",
        "    <tr>\n",
        "      <th>6</th>\n",
        "      <td> A060</td>\n",
        "      <td> R001</td>\n",
        "      <td> 00-00-00</td>\n",
        "      <td> WHITEHALL ST</td>\n",
        "      <td> R1</td>\n",
        "      <td> BMT</td>\n",
        "      <td> 2014-10-12</td>\n",
        "      <td>01:00:00</td>\n",
        "      <td> 1</td>\n",
        "      <td> REGULAR</td>\n",
        "      <td> 806591</td>\n",
        "      <td> 1142537</td>\n",
        "    </tr>\n",
        "    <tr>\n",
        "      <th>7</th>\n",
        "      <td> A060</td>\n",
        "      <td> R001</td>\n",
        "      <td> 00-00-00</td>\n",
        "      <td> WHITEHALL ST</td>\n",
        "      <td> R1</td>\n",
        "      <td> BMT</td>\n",
        "      <td> 2014-10-12</td>\n",
        "      <td>05:00:00</td>\n",
        "      <td> 1</td>\n",
        "      <td> REGULAR</td>\n",
        "      <td> 806609</td>\n",
        "      <td> 1142618</td>\n",
        "    </tr>\n",
        "    <tr>\n",
        "      <th>8</th>\n",
        "      <td> A060</td>\n",
        "      <td> R001</td>\n",
        "      <td> 00-00-00</td>\n",
        "      <td> WHITEHALL ST</td>\n",
        "      <td> R1</td>\n",
        "      <td> BMT</td>\n",
        "      <td> 2014-10-12</td>\n",
        "      <td>09:00:00</td>\n",
        "      <td> 1</td>\n",
        "      <td> REGULAR</td>\n",
        "      <td> 806670</td>\n",
        "      <td> 1142994</td>\n",
        "    </tr>\n",
        "    <tr>\n",
        "      <th>9</th>\n",
        "      <td> A060</td>\n",
        "      <td> R001</td>\n",
        "      <td> 00-00-00</td>\n",
        "      <td> WHITEHALL ST</td>\n",
        "      <td> R1</td>\n",
        "      <td> BMT</td>\n",
        "      <td> 2014-10-12</td>\n",
        "      <td>13:00:00</td>\n",
        "      <td> 1</td>\n",
        "      <td> REGULAR</td>\n",
        "      <td> 807189</td>\n",
        "      <td> 1143522</td>\n",
        "    </tr>\n",
        "  </tbody>\n",
        "</table>\n",
        "</div>"
       ],
       "metadata": {},
       "output_type": "pyout",
       "prompt_number": 402,
       "text": [
        "     ca  unit       scp       station linename division  audit_date  \\\n",
        "0  A060  R001  00-00-00  WHITEHALL ST       R1      BMT  2014-10-11   \n",
        "1  A060  R001  00-00-00  WHITEHALL ST       R1      BMT  2014-10-11   \n",
        "2  A060  R001  00-00-00  WHITEHALL ST       R1      BMT  2014-10-11   \n",
        "3  A060  R001  00-00-00  WHITEHALL ST       R1      BMT  2014-10-11   \n",
        "4  A060  R001  00-00-00  WHITEHALL ST       R1      BMT  2014-10-11   \n",
        "5  A060  R001  00-00-00  WHITEHALL ST       R1      BMT  2014-10-11   \n",
        "6  A060  R001  00-00-00  WHITEHALL ST       R1      BMT  2014-10-12   \n",
        "7  A060  R001  00-00-00  WHITEHALL ST       R1      BMT  2014-10-12   \n",
        "8  A060  R001  00-00-00  WHITEHALL ST       R1      BMT  2014-10-12   \n",
        "9  A060  R001  00-00-00  WHITEHALL ST       R1      BMT  2014-10-12   \n",
        "\n",
        "   audit_time  audit_day description  entries    exits  \n",
        "0    01:00:00          7     REGULAR   805439  1141080  \n",
        "1    05:00:00          7     REGULAR   805459  1141141  \n",
        "2    09:00:00          7     REGULAR   805589  1141257  \n",
        "3    13:00:00          7     REGULAR   805834  1141512  \n",
        "4    17:00:00          7     REGULAR   806150  1141903  \n",
        "5    21:00:00          7     REGULAR   806431  1142305  \n",
        "6    01:00:00          1     REGULAR   806591  1142537  \n",
        "7    05:00:00          1     REGULAR   806609  1142618  \n",
        "8    09:00:00          1     REGULAR   806670  1142994  \n",
        "9    13:00:00          1     REGULAR   807189  1143522  "
       ]
      }
     ],
     "prompt_number": 402
    },
    {
     "cell_type": "markdown",
     "metadata": {},
     "source": [
      "####DAYOFWEEK(date)\n",
      "Returns the weekday index for date (1 = Sunday, 2 = Monday, ., 7 = Saturday). These index values correspond to the ODBC standard."
     ]
    },
    {
     "cell_type": "code",
     "collapsed": false,
     "input": [
      "friday_df = read_sql(\"SELECT * FROM mta_new \\\n",
      "                    WHERE audit_day = 6 \", db)"
     ],
     "language": "python",
     "metadata": {},
     "outputs": []
    },
    {
     "cell_type": "code",
     "collapsed": false,
     "input": [
      "friday_df.describe"
     ],
     "language": "python",
     "metadata": {},
     "outputs": []
    },
    {
     "cell_type": "code",
     "collapsed": false,
     "input": [
      "saturday_df = read_sql(\"SELECT * FROM mta_new \\\n",
      "                    WHERE audit_day = 7\", db)"
     ],
     "language": "python",
     "metadata": {},
     "outputs": []
    },
    {
     "cell_type": "code",
     "collapsed": false,
     "input": [
      "sunday_df = read_sql(\"SELECT * FROM mta_new \\\n",
      "                    WHERE audit_day = 1\", db)"
     ],
     "language": "python",
     "metadata": {},
     "outputs": []
    },
    {
     "cell_type": "markdown",
     "metadata": {},
     "source": [
      "##Pickle Friday / Saturday / Sunday Dataframe"
     ]
    },
    {
     "cell_type": "code",
     "collapsed": false,
     "input": [
      "pickle.dump( friday_df, open( \"friday_mta_new.pkl\", \"wb\" ) )"
     ],
     "language": "python",
     "metadata": {},
     "outputs": []
    },
    {
     "cell_type": "code",
     "collapsed": false,
     "input": [
      "friday_df = pickle.load( open( \"friday_mta_new.pkl\", \"rb\" ) )"
     ],
     "language": "python",
     "metadata": {},
     "outputs": []
    },
    {
     "cell_type": "code",
     "collapsed": false,
     "input": [
      "pickle.dump( saturday_df, open( \"saturday_mta_new.pkl\", \"wb\" ) )"
     ],
     "language": "python",
     "metadata": {},
     "outputs": []
    },
    {
     "cell_type": "code",
     "collapsed": false,
     "input": [
      "saturday_df = pickle.load( open( \"saturday_mta_new.pkl\", \"rb\" ) )"
     ],
     "language": "python",
     "metadata": {},
     "outputs": []
    },
    {
     "cell_type": "code",
     "collapsed": false,
     "input": [
      "pickle.dump( sunday_df, open( \"sunday_mta_new.pkl\", \"wb\" ) )"
     ],
     "language": "python",
     "metadata": {},
     "outputs": []
    },
    {
     "cell_type": "code",
     "collapsed": false,
     "input": [
      "sunday_df = pickle.load( open( \"sunday_mta_new.pkl\", \"rb\" ) )"
     ],
     "language": "python",
     "metadata": {},
     "outputs": []
    },
    {
     "cell_type": "markdown",
     "metadata": {},
     "source": [
      "#Sunday Brunch Data - Group By Station (i.e., unit) \n",
      "#---------------- DONE IN SQL ----------------#\n",
      "\n",
      "### 11 am - 4 pm"
     ]
    },
    {
     "cell_type": "code",
     "collapsed": false,
     "input": [
      "read_sql(\"SHOW tables\", db)"
     ],
     "language": "python",
     "metadata": {},
     "outputs": [
      {
       "html": [
        "<div style=\"max-height:1000px;max-width:1500px;overflow:auto;\">\n",
        "<table border=\"1\" class=\"dataframe\">\n",
        "  <thead>\n",
        "    <tr style=\"text-align: right;\">\n",
        "      <th></th>\n",
        "      <th>Tables_in_mta</th>\n",
        "    </tr>\n",
        "  </thead>\n",
        "  <tbody>\n",
        "    <tr>\n",
        "      <th>0</th>\n",
        "      <td>               mta_new</td>\n",
        "    </tr>\n",
        "    <tr>\n",
        "      <th>1</th>\n",
        "      <td>          station_list</td>\n",
        "    </tr>\n",
        "    <tr>\n",
        "      <th>2</th>\n",
        "      <td>            sun_brunch</td>\n",
        "    </tr>\n",
        "    <tr>\n",
        "      <th>3</th>\n",
        "      <td>   sun_cnts_by_station</td>\n",
        "    </tr>\n",
        "    <tr>\n",
        "      <th>4</th>\n",
        "      <td> sun_cnts_by_turnstile</td>\n",
        "    </tr>\n",
        "    <tr>\n",
        "      <th>5</th>\n",
        "      <td>         sun_date_list</td>\n",
        "    </tr>\n",
        "    <tr>\n",
        "      <th>6</th>\n",
        "      <td>        sun_total_cnts</td>\n",
        "    </tr>\n",
        "  </tbody>\n",
        "</table>\n",
        "</div>"
       ],
       "metadata": {},
       "output_type": "pyout",
       "prompt_number": 409,
       "text": [
        "           Tables_in_mta\n",
        "0                mta_new\n",
        "1           station_list\n",
        "2             sun_brunch\n",
        "3    sun_cnts_by_station\n",
        "4  sun_cnts_by_turnstile\n",
        "5          sun_date_list\n",
        "6         sun_total_cnts"
       ]
      }
     ],
     "prompt_number": 409
    },
    {
     "cell_type": "markdown",
     "metadata": {},
     "source": [
      "# Saturday Brunch"
     ]
    },
    {
     "cell_type": "markdown",
     "metadata": {},
     "source": [
      "# Friday Nights (  8pm - 4am )"
     ]
    },
    {
     "cell_type": "code",
     "collapsed": false,
     "input": [
      "friday_nite_df = read_sql(\"SELECT * FROM mta_new \\\n",
      "                        WHERE audit_day = 6 \\\n",
      "                        AND audit_time >= '20:00:00'\", db)"
     ],
     "language": "python",
     "metadata": {},
     "outputs": []
    },
    {
     "cell_type": "code",
     "collapsed": false,
     "input": [
      "friday_late_nite_df = read_sql(\"SELECT * FROM mta_new \\\n",
      "                        WHERE audit_day = 7 \\\n",
      "                        AND audit_time <= '4:00:00'\", db)"
     ],
     "language": "python",
     "metadata": {},
     "outputs": []
    },
    {
     "cell_type": "code",
     "collapsed": false,
     "input": [
      "type(friday_nite_df)"
     ],
     "language": "python",
     "metadata": {},
     "outputs": []
    },
    {
     "cell_type": "code",
     "collapsed": false,
     "input": [
      "friday_all_nite_df = pd.concat([friday_nite_df, friday_late_nite_df])"
     ],
     "language": "python",
     "metadata": {},
     "outputs": []
    },
    {
     "cell_type": "code",
     "collapsed": false,
     "input": [
      "friday_all_nite_df"
     ],
     "language": "python",
     "metadata": {},
     "outputs": []
    },
    {
     "cell_type": "code",
     "collapsed": false,
     "input": [
      "len(friday_all_nite_df) # After 8pm Friday & before 4am Saturday"
     ],
     "language": "python",
     "metadata": {},
     "outputs": []
    },
    {
     "cell_type": "code",
     "collapsed": false,
     "input": [
      "len(friday_df) # ALL friday"
     ],
     "language": "python",
     "metadata": {},
     "outputs": []
    },
    {
     "cell_type": "code",
     "collapsed": false,
     "input": [
      "len(friday_nite_df) # after 6pm "
     ],
     "language": "python",
     "metadata": {},
     "outputs": []
    },
    {
     "cell_type": "code",
     "collapsed": false,
     "input": [
      "len(friday_nite_df) # after 8pm"
     ],
     "language": "python",
     "metadata": {},
     "outputs": []
    },
    {
     "cell_type": "code",
     "collapsed": false,
     "input": [
      "len(friday_late_nite_df)"
     ],
     "language": "python",
     "metadata": {},
     "outputs": []
    },
    {
     "cell_type": "code",
     "collapsed": false,
     "input": [
      "fri_nite_grouped_by_station = friday_all_nite_df.groupby(['unit', 'audit_date'])\n",
      "fri_nite_entries_grouped_by_station = friday_all_nite_df.groupby(['unit', 'audit_date'])['entries']\n",
      "fri_nite_exits_grouped_by_station = friday_all_nite_df.groupby(['unit', 'audit_date'])['exits']"
     ],
     "language": "python",
     "metadata": {},
     "outputs": []
    },
    {
     "cell_type": "code",
     "collapsed": false,
     "input": [
      "fri_nite_entries_grouped_by_station.describe()"
     ],
     "language": "python",
     "metadata": {},
     "outputs": []
    },
    {
     "cell_type": "code",
     "collapsed": false,
     "input": [
      "fri_nite_entries_grouped_by_station.first()"
     ],
     "language": "python",
     "metadata": {},
     "outputs": []
    },
    {
     "cell_type": "code",
     "collapsed": false,
     "input": [
      "fri_nite_entries_grouped_by_station"
     ],
     "language": "python",
     "metadata": {},
     "outputs": []
    },
    {
     "cell_type": "code",
     "collapsed": false,
     "input": [
      "print fri_nite_entries_grouped_by_station.sum()\n",
      "print fri_nite_entries_grouped_by_station.min()\n",
      "print fri_nite_entries_grouped_by_station.max()"
     ],
     "language": "python",
     "metadata": {},
     "outputs": []
    },
    {
     "cell_type": "code",
     "collapsed": false,
     "input": [
      "fri_nite_entries_grouped_by_station.max() - fri_nite_entries_grouped_by_station.min()"
     ],
     "language": "python",
     "metadata": {},
     "outputs": []
    },
    {
     "cell_type": "code",
     "collapsed": false,
     "input": [
      "def period_count(group):\n",
      "    return pd.DataFrame({'min' : group.min(),\n",
      "                         'max' : group.max(),\n",
      "                         'count' : group.max() - group.min()})"
     ],
     "language": "python",
     "metadata": {},
     "outputs": []
    },
    {
     "cell_type": "code",
     "collapsed": false,
     "input": [
      "fri_nite_entries_grouped_by_station.apply(period_count)"
     ],
     "language": "python",
     "metadata": {},
     "outputs": []
    },
    {
     "cell_type": "code",
     "collapsed": false,
     "input": [],
     "language": "python",
     "metadata": {},
     "outputs": []
    },
    {
     "cell_type": "code",
     "collapsed": false,
     "input": [],
     "language": "python",
     "metadata": {},
     "outputs": []
    },
    {
     "cell_type": "code",
     "collapsed": false,
     "input": [],
     "language": "python",
     "metadata": {},
     "outputs": []
    },
    {
     "cell_type": "code",
     "collapsed": false,
     "input": [],
     "language": "python",
     "metadata": {},
     "outputs": []
    },
    {
     "cell_type": "markdown",
     "metadata": {},
     "source": [
      "#Close MySQL Server Conenction"
     ]
    },
    {
     "cell_type": "code",
     "collapsed": false,
     "input": [
      "\n",
      "cursor.close()\n",
      "db.close()"
     ],
     "language": "python",
     "metadata": {},
     "outputs": []
    }
   ],
   "metadata": {}
  }
 ]
}